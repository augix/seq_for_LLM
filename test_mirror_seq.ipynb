{
 "cells": [
  {
   "cell_type": "markdown",
   "metadata": {},
   "source": [
    "# Test Mirror Sequence Data Generator\n",
    "\n",
    "This notebook tests the mirror sequence data generation functions from `func/data_mirror_seq.py`."
   ]
  },
  {
   "cell_type": "code",
   "execution_count": 1,
   "metadata": {},
   "outputs": [],
   "source": [
    "import torch\n",
    "from data_mirror_seq import make_seq, masking, make_record, make_batch\n",
    "from types import SimpleNamespace"
   ]
  },
  {
   "cell_type": "code",
   "execution_count": 2,
   "metadata": {},
   "outputs": [],
   "source": [
    "# Configuration\n",
    "config = SimpleNamespace(\n",
    "    n_input_values=10,  # Range of possible values (1 to n_input_values-1, 0 reserved for mask)\n",
    "    seq_len=8,         # Length of the sequence\n",
    "    mask_frac=0.3,     # Fraction of positions to mask\n",
    "    batch_size=4       # Number of sequences in a batch\n",
    ")"
   ]
  },
  {
   "cell_type": "markdown",
   "metadata": {},
   "source": [
    "## Test Single Sequence Generation"
   ]
  },
  {
   "cell_type": "code",
   "execution_count": 3,
   "metadata": {},
   "outputs": [
    {
     "name": "stdout",
     "output_type": "stream",
     "text": [
      "Generated sequence:\n",
      "tensor([[2, 9, 9, 7, 7, 9, 9, 2]])\n",
      "\n",
      "First half: tensor([[2, 9, 9, 7]])\n",
      "Second half: tensor([[7, 9, 9, 2]])\n",
      "Second half (flipped): tensor([[2, 9, 9, 7]])\n",
      "\n",
      "Is mirrored correctly: True\n"
     ]
    }
   ],
   "source": [
    "# Test make_seq\n",
    "seq = make_seq(config.n_input_values, config.seq_len)\n",
    "print(\"Generated sequence:\")\n",
    "print(seq)\n",
    "\n",
    "# Verify the mirror property\n",
    "half_len = config.seq_len // 2\n",
    "first_half = seq[:, :half_len]\n",
    "second_half = seq[:, half_len:]\n",
    "print(\"\\nFirst half:\", first_half)\n",
    "print(\"Second half:\", second_half)\n",
    "print(\"Second half (flipped):\", second_half.flip(1))\n",
    "print(\"\\nIs mirrored correctly:\", torch.equal(first_half, second_half.flip(1)))"
   ]
  },
  {
   "cell_type": "markdown",
   "metadata": {},
   "source": [
    "## Test Masking"
   ]
  },
  {
   "cell_type": "code",
   "execution_count": 4,
   "metadata": {},
   "outputs": [
    {
     "name": "stdout",
     "output_type": "stream",
     "text": [
      "Original sequence:\n",
      "tensor([[8, 2, 5, 1, 1, 5, 2, 8]])\n",
      "\n",
      "Mask (True indicates masked positions):\n",
      "tensor([[False,  True,  True,  True, False, False, False, False]])\n",
      "\n",
      "Masked sequence (0 indicates masked positions):\n",
      "tensor([[8, 0, 0, 0, 1, 5, 2, 8]])\n",
      "\n",
      "Actual mask ratio: 0.38 (target: 0.3)\n"
     ]
    }
   ],
   "source": [
    "# Test masking\n",
    "seq = make_seq(config.n_input_values, config.seq_len)\n",
    "masked_seq, mask = masking(seq, config.mask_frac)\n",
    "\n",
    "print(\"Original sequence:\")\n",
    "print(seq)\n",
    "print(\"\\nMask (True indicates masked positions):\")\n",
    "print(mask)\n",
    "print(\"\\nMasked sequence (0 indicates masked positions):\")\n",
    "print(masked_seq)\n",
    "\n",
    "# Calculate masking statistics\n",
    "mask_ratio = mask.float().mean().item()\n",
    "print(f\"\\nActual mask ratio: {mask_ratio:.2f} (target: {config.mask_frac})\")"
   ]
  },
  {
   "cell_type": "markdown",
   "metadata": {},
   "source": [
    "## Test Single Record Generation"
   ]
  },
  {
   "cell_type": "code",
   "execution_count": 5,
   "metadata": {},
   "outputs": [
    {
     "name": "stdout",
     "output_type": "stream",
     "text": [
      "Record contents:\n",
      "\n",
      "pos_id:\n",
      "tensor([[0, 1, 2, 3, 4, 5, 6, 7]])\n",
      "Shape: torch.Size([1, 8])\n",
      "\n",
      "input:\n",
      "tensor([[0, 1, 3, 8, 8, 3, 1, 6]])\n",
      "Shape: torch.Size([1, 8])\n",
      "\n",
      "target:\n",
      "tensor([[6, 1, 3, 8, 8, 3, 1, 6]])\n",
      "Shape: torch.Size([1, 8])\n",
      "\n",
      "mask:\n",
      "tensor([[ True, False, False, False, False, False, False, False]])\n",
      "Shape: torch.Size([1, 8])\n"
     ]
    }
   ],
   "source": [
    "# Test make_record\n",
    "record = make_record(config)\n",
    "\n",
    "print(\"Record contents:\")\n",
    "for key, value in record.items():\n",
    "    print(f\"\\n{key}:\")\n",
    "    print(value)\n",
    "    print(f\"Shape: {value.shape}\")"
   ]
  },
  {
   "cell_type": "markdown",
   "metadata": {},
   "source": [
    "## Test Batch Generation"
   ]
  },
  {
   "cell_type": "code",
   "execution_count": 6,
   "metadata": {},
   "outputs": [
    {
     "name": "stdout",
     "output_type": "stream",
     "text": [
      "Batch contents:\n",
      "\n",
      "pos_id:\n",
      "tensor([[0, 1, 2, 3, 4, 5, 6, 7],\n",
      "        [0, 1, 2, 3, 4, 5, 6, 7],\n",
      "        [0, 1, 2, 3, 4, 5, 6, 7],\n",
      "        [0, 1, 2, 3, 4, 5, 6, 7]])\n",
      "Shape: torch.Size([4, 8])\n",
      "\n",
      "input:\n",
      "tensor([[1, 2, 4, 0, 4, 4, 0, 1],\n",
      "        [8, 0, 5, 0, 2, 5, 6, 8],\n",
      "        [2, 0, 2, 0, 5, 2, 4, 2],\n",
      "        [0, 0, 0, 2, 2, 6, 0, 0]])\n",
      "Shape: torch.Size([4, 8])\n",
      "\n",
      "target:\n",
      "tensor([[1, 2, 4, 4, 4, 4, 2, 1],\n",
      "        [8, 6, 5, 2, 2, 5, 6, 8],\n",
      "        [2, 4, 2, 5, 5, 2, 4, 2],\n",
      "        [4, 7, 6, 2, 2, 6, 7, 4]])\n",
      "Shape: torch.Size([4, 8])\n",
      "\n",
      "mask:\n",
      "tensor([[False, False, False,  True, False, False,  True, False],\n",
      "        [False,  True, False,  True, False, False, False, False],\n",
      "        [False,  True, False,  True, False, False, False, False],\n",
      "        [ True,  True,  True, False, False, False,  True,  True]])\n",
      "Shape: torch.Size([4, 8])\n",
      "\n",
      "All tensors have expected shape (4, 8): True\n"
     ]
    }
   ],
   "source": [
    "# Test make_batch\n",
    "batch = make_batch(config)\n",
    "\n",
    "print(\"Batch contents:\")\n",
    "for key, value in batch.items():\n",
    "    print(f\"\\n{key}:\")\n",
    "    print(value)\n",
    "    print(f\"Shape: {value.shape}\")\n",
    "\n",
    "# Verify batch dimensions\n",
    "expected_shape = (config.batch_size, config.seq_len)\n",
    "print(f\"\\nAll tensors have expected shape {expected_shape}:\", \n",
    "      all(v.shape == expected_shape for v in batch.values()))"
   ]
  }
 ],
 "metadata": {
  "kernelspec": {
   "display_name": "Python 3",
   "language": "python",
   "name": "python3"
  },
  "language_info": {
   "codemirror_mode": {
    "name": "ipython",
    "version": 3
   },
   "file_extension": ".py",
   "mimetype": "text/x-python",
   "name": "python",
   "nbconvert_exporter": "python",
   "pygments_lexer": "ipython3",
   "version": "3.11.4"
  }
 },
 "nbformat": 4,
 "nbformat_minor": 4
}
